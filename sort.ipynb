{
 "cells": [
  {
   "cell_type": "code",
   "execution_count": 18,
   "metadata": {},
   "outputs": [
    {
     "name": "stdout",
     "output_type": "stream",
     "text": [
      "[5, 3, 3, 6, 4, 4, 7, 8, 7, 8]\n"
     ]
    }
   ],
   "source": [
    "import random\n",
    " \n",
    "rand_list=[]\n",
    "n=10\n",
    "for i in range(n):\n",
    "    rand_list.append(random.randint(0,9))\n",
    "\n",
    "print(rand_list)"
   ]
  },
  {
   "cell_type": "code",
   "execution_count": 19,
   "metadata": {},
   "outputs": [
    {
     "data": {
      "text/plain": [
       "[3, 3, 4, 4, 5, 6, 7, 7, 8, 8]"
      ]
     },
     "execution_count": 19,
     "metadata": {},
     "output_type": "execute_result"
    }
   ],
   "source": [
    "def bub(rand_list):\n",
    "    n=len(rand_list)\n",
    "    swap = False\n",
    "\n",
    "    for i in range(n-1):\n",
    "        for j in range(00,n-i-1):\n",
    "            if rand_list[j] > rand_list[j+1]:\n",
    "                swap = True\n",
    "                rand_list[j], rand_list[j+1] = rand_list[j+1], rand_list[j]\n",
    "            if not swap:\n",
    "                return\n",
    "\n",
    "bub(rand_list)\n",
    "rand_list"
   ]
  }
 ],
 "metadata": {
  "kernelspec": {
   "display_name": "Python 3",
   "language": "python",
   "name": "python3"
  },
  "language_info": {
   "codemirror_mode": {
    "name": "ipython",
    "version": 3
   },
   "file_extension": ".py",
   "mimetype": "text/x-python",
   "name": "python",
   "nbconvert_exporter": "python",
   "pygments_lexer": "ipython3",
   "version": "3.11.3"
  }
 },
 "nbformat": 4,
 "nbformat_minor": 2
}
